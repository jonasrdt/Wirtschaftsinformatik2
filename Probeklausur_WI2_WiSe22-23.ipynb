{
 "cells": [
  {
   "cell_type": "markdown",
   "id": "comparative-brooks",
   "metadata": {
    "nbgrader": {
     "grade": false,
     "grade_id": "cell-a7252be3ee475537",
     "locked": true,
     "schema_version": 3,
     "solution": false,
     "task": false
    }
   },
   "source": [
    "# Probeklausur: Wirtschaftsinformatik 2\n",
    "\n",
    "* Datum KW 48\n",
    "* Dauer 45 Minuten\n",
    "* Erlaubte Hilfsmittel: keine\n",
    "* Bitte tragen Sie in die folgende Zelle Ihren vollständigen Name und Ihre Matrikelnummer ein\n",
    "* Achten Sie darauf Variabeln, Funktionen etc. mit korrekter Schreibweise zu übernehmen.\n",
    "* Versuchen Sie Code abzugeben, der lauffähig ist!\n",
    "* Zum Bestehen sind 50% der Punkte erforderlichl."
   ]
  },
  {
   "cell_type": "code",
   "execution_count": 1,
   "id": "legislative-advisory",
   "metadata": {},
   "outputs": [],
   "source": [
    "# Name: \n",
    "# Matrikelnummer: "
   ]
  },
  {
   "cell_type": "markdown",
   "id": "frequent-repair",
   "metadata": {
    "nbgrader": {
     "grade": false,
     "grade_id": "cell-a09ab6aba99784ed",
     "locked": true,
     "schema_version": 3,
     "solution": false,
     "task": false
    }
   },
   "source": [
    "# Imperative Programmierung\n",
    "\n"
   ]
  },
  {
   "cell_type": "markdown",
   "id": "80483ed0",
   "metadata": {},
   "source": [
    "#### Aufgabe 1 (2 Punkte)\n",
    "Ergänzen Sie die nachstehende if-Conditions so, dass `5` auf der Konsole ausgegeben wird."
   ]
  },
  {
   "cell_type": "code",
   "execution_count": 2,
   "id": "derived-constant",
   "metadata": {
    "nbgrader": {
     "grade": false,
     "grade_id": "cell-ad26d26ff6850660",
     "locked": false,
     "schema_version": 3,
     "solution": true,
     "task": false
    }
   },
   "outputs": [
    {
     "ename": "SyntaxError",
     "evalue": "invalid syntax (633869473.py, line 2)",
     "output_type": "error",
     "traceback": [
      "\u001b[0;36m  Input \u001b[0;32mIn [2]\u001b[0;36m\u001b[0m\n\u001b[0;31m    if      :\u001b[0m\n\u001b[0m            ^\u001b[0m\n\u001b[0;31mSyntaxError\u001b[0m\u001b[0;31m:\u001b[0m invalid syntax\n"
     ]
    }
   ],
   "source": [
    "def aufgabe1():\n",
    "    if      :\n",
    "        if      :\n",
    "            return 255\n",
    "        else:\n",
    "            return 5\n",
    "    else:\n",
    "        return 10"
   ]
  },
  {
   "cell_type": "markdown",
   "id": "cb474d25",
   "metadata": {},
   "source": [
    "#### Aufgabe 2 (2 Punkte)\n",
    "Ergänzen Sie die nachstehende Funktion so, dass mithilfe von Modulo `2` auf der Konsole ausgegeben wird."
   ]
  },
  {
   "cell_type": "code",
   "execution_count": null,
   "id": "2ea2f1cb",
   "metadata": {},
   "outputs": [
    {
     "name": "stdout",
     "output_type": "stream",
     "text": [
      "2.0\n"
     ]
    }
   ],
   "source": [
    "def modulo():\n",
    "    a = 2.5\n",
    "    b = 7\n",
    "    # Ergänzen Sie folgende Zeile mit Ihrer Lösung\n",
    "    c =\n",
    "    return\n",
    "print(modulo())"
   ]
  },
  {
   "cell_type": "markdown",
   "id": "cb474d25",
   "metadata": {},
   "source": [
    "#### Aufgabe 3 (2 Punkte)\n",
    "Ergänzen Sie die Funktion um eine for-Schleife, welche so hochzählt, dass am Ende 6 auf der Konsole ausgegeben wird."
   ]
  },
  {
   "cell_type": "code",
   "execution_count": null,
   "id": "b5cb9006",
   "metadata": {},
   "outputs": [
    {
     "name": "stdout",
     "output_type": "stream",
     "text": [
      "6\n"
     ]
    }
   ],
   "source": [
    "\n",
    "def forLoop():\n",
    "    counter = 0\n",
    "    # Fügen Sie ab hier Ihre Lösung ein\n",
    "\n",
    "\n",
    "    return \n",
    "print(forLoop())"
   ]
  },
  {
   "cell_type": "markdown",
   "id": "d2912074",
   "metadata": {},
   "source": [
    "#### Aufgabe 4 (2 Punkte)\n",
    "Ergänzen Sie die Funktion so, dass die Länge der Liste in der Konsole ausgegeben wird."
   ]
  },
  {
   "cell_type": "code",
   "execution_count": null,
   "id": "2aac5ce4",
   "metadata": {},
   "outputs": [],
   "source": [
    "def listenLaenge():\n",
    "    myList = [5, 2, \"I love Python\"]\n",
    "    # Fügen Sie hier Ihre Lösung ein\n",
    "    return "
   ]
  },
  {
   "cell_type": "markdown",
   "id": "810c9443",
   "metadata": {},
   "source": [
    "#### Aufgabe 5 (2 Punkte)\n",
    "Ergänzen Sie die Funktion mithilfe eines Slice-Strings so, dass nur der Teil-String: `boss` ausgegeben wird."
   ]
  },
  {
   "cell_type": "code",
   "execution_count": null,
   "id": "111dc680",
   "metadata": {},
   "outputs": [],
   "source": [
    "def htsdof():\n",
    "    myText = \"Nerd today, boss tomorrow.\"\n",
    "    # Fügen Sie hier Ihre Lösung ein\n",
    "    mySlice =\n",
    "    return mySlice"
   ]
  },
  {
   "cell_type": "markdown",
   "id": "95d2011e",
   "metadata": {},
   "source": [
    "#### Aufgabe 6 (2 Punkte)\n",
    "Ergänzen Sie die Funktion so, zwei Parameter als Integer übergeben und die Summe als `return` Wert ausgegeben wird."
   ]
  },
  {
   "cell_type": "markdown",
   "id": "e8616835",
   "metadata": {},
   "source": []
  },
  {
   "cell_type": "code",
   "execution_count": null,
   "id": "c2f54308",
   "metadata": {},
   "outputs": [],
   "source": [
    "# Ergänzen Sie die folgendne Zeilen um Ihre Lösung\n",
    "def addition(a,b):\n",
    "    "
   ]
  },
  {
   "cell_type": "markdown",
   "id": "fed7f5d8",
   "metadata": {},
   "source": [
    "#### Aufgabe 7 (2 Punkte)\n",
    "Schreiben Sie eine Funktion mit dem Namen kreisberechnung(), welche nach Eingabe des Durchmessers die Fläche des Kreises berechnet."
   ]
  },
  {
   "cell_type": "code",
   "execution_count": null,
   "id": "6902a2b1",
   "metadata": {},
   "outputs": [],
   "source": [
    "# Fügen Sie hier Ihre Lösung ein\n",
    "def kreisberechnung(pi, radius):\n",
    "    \n",
    "    "
   ]
  },
  {
   "cell_type": "markdown",
   "id": "dd5550a4",
   "metadata": {},
   "source": [
    "#### Aufgabe 8 (2 Punkte)\n",
    "Passen Sie den Code und die Funktion `truther()` so an, dass sie beim Ausführen `True` zurückgibt."
   ]
  },
  {
   "cell_type": "code",
   "execution_count": null,
   "id": "ca4e9706",
   "metadata": {},
   "outputs": [
    {
     "name": "stdout",
     "output_type": "stream",
     "text": [
      "True\n"
     ]
    }
   ],
   "source": [
    "# Ergänzen Sie die folgendne Zeilen\n",
    "def truther(a):\n",
    "    if      :\n",
    "        return True\n",
    "    else:\n",
    "        return False\n",
    "print(truther(10))"
   ]
  },
  {
   "cell_type": "markdown",
   "id": "e5f37d75",
   "metadata": {},
   "source": [
    "#### Aufgabe 9 (2 Punkte)\n",
    "Ergänzen Sie die Funktion so, dass die while-Schleife den `counter` bei jedem Durchlauf um 1 hochzählt."
   ]
  },
  {
   "cell_type": "code",
   "execution_count": null,
   "id": "cdc1b34e",
   "metadata": {},
   "outputs": [
    {
     "name": "stdout",
     "output_type": "stream",
     "text": [
      "5\n"
     ]
    }
   ],
   "source": [
    "def loopinglouie():\n",
    "    counter = 0\n",
    "    while counter < 5:\n",
    "        # Ergänzen Sie hier Ihren Code\n",
    "\n",
    "    return\n",
    "\n",
    "print(loopinglouie())"
   ]
  },
  {
   "cell_type": "markdown",
   "id": "a4211186",
   "metadata": {},
   "source": [
    "#### Aufgabe 10 (10 Punkte)\n",
    "Schreiben Sie handschriftlich ein Python-Programm, mithilfe dessen bei Nutzereingabe eines Namens die passende Telefonnummer aus dem Adressbuch mitsamt des Namens ausgegeben wird. Falls der Name im Dictionary nicht existiert, soll ein neuer Eintrag mit einer neuen Telefonnummer eingetragen werden. Nehmen Sie folgendes Dictionary als Basis:\n",
    "\n",
    "```python\n",
    "    adressbuch = {\n",
    "        \"Lara\" : \"05761496961\",\n",
    "        \"Jan\" : \"0611135160\"\n",
    "    }\n",
    "```"
   ]
  },
  {
   "cell_type": "code",
   "execution_count": null,
   "id": "c0385a50",
   "metadata": {},
   "outputs": [],
   "source": [
    "adressbuch = {\n",
    "    \"Lara\": \"05761496961\",\n",
    "    \"Jan\": \"0611135160\"\n",
    "}\n",
    "\n",
    "# Fügen Sie hier Ihre Lösung ein"
   ]
  },
  {
   "cell_type": "code",
   "execution_count": null,
   "id": "0802268f",
   "metadata": {},
   "outputs": [],
   "source": []
  },
  {
   "cell_type": "code",
   "execution_count": null,
   "id": "be9e54ec",
   "metadata": {},
   "outputs": [
    {
     "name": "stderr",
     "output_type": "stream",
     "text": [
      "test_aufgabe1 (__main__.TestNotebook) ... ok\n",
      "test_aufgabe2 (__main__.TestNotebook) ... ok\n",
      "test_aufgabe3 (__main__.TestNotebook) ... ok\n",
      "test_aufgabe4 (__main__.TestNotebook) ... ok\n",
      "test_aufgabe5 (__main__.TestNotebook) ... ok\n",
      "test_aufgabe6 (__main__.TestNotebook) ... ok\n",
      "test_aufgabe7 (__main__.TestNotebook) ... ok\n",
      "test_aufgabe8 (__main__.TestNotebook) ... ok\n",
      "test_aufgabe9 (__main__.TestNotebook) ... ok\n",
      "\n",
      "----------------------------------------------------------------------\n",
      "Ran 9 tests in 0.006s\n",
      "\n",
      "OK\n"
     ]
    },
    {
     "data": {
      "text/plain": [
       "<unittest.main.TestProgram at 0x1115971f0>"
      ]
     },
     "execution_count": 109,
     "metadata": {},
     "output_type": "execute_result"
    }
   ],
   "source": [
    "import unittest\n",
    "class TestNotebook(unittest.TestCase):\n",
    "    def test_aufgabe1(self):\n",
    "        self.assertEqual(aufgabe1(), 5)\n",
    "    def test_aufgabe2(self):\n",
    "        self.assertEqual(modulo(), 2)\n",
    "    def test_aufgabe3(self):\n",
    "        self.assertEqual(forLoop(), 6)\n",
    "    def test_aufgabe4(self):\n",
    "        self.assertEqual(listenLaenge(), 3)\n",
    "    def test_aufgabe5(self):\n",
    "        self.assertEqual(htsdof(), \"boss\")\n",
    "    def test_aufgabe6(self):\n",
    "        self.assertEqual(addition(2,5), 7)\n",
    "    def test_aufgabe7(self):\n",
    "        self.assertAlmostEqual(kreisberechnung(3.141, 50), 7852.5)\n",
    "    def test_aufgabe8(self):\n",
    "        self.assertEqual(truther(6), True)\n",
    "    def test_aufgabe9(self):\n",
    "        self.assertEqual(loopinglouie(), 5)\n",
    "    \n",
    "        \n",
    "unittest.main(argv=[''], verbosity=2, exit=False)"
   ]
  }
 ],
 "metadata": {
  "celltoolbar": "Create Assignment",
  "kernelspec": {
   "display_name": "Python 3.10.3 64-bit",
   "language": "python",
   "name": "python3"
  },
  "language_info": {
   "codemirror_mode": {
    "name": "ipython",
    "version": 3
   },
   "file_extension": ".py",
   "mimetype": "text/x-python",
   "name": "python",
   "nbconvert_exporter": "python",
   "pygments_lexer": "ipython3",
   "version": "3.10.3"
  },
  "varInspector": {
   "cols": {
    "lenName": 16,
    "lenType": 16,
    "lenVar": 40
   },
   "kernels_config": {
    "python": {
     "delete_cmd_postfix": "",
     "delete_cmd_prefix": "del ",
     "library": "var_list.py",
     "varRefreshCmd": "print(var_dic_list())"
    },
    "r": {
     "delete_cmd_postfix": ") ",
     "delete_cmd_prefix": "rm(",
     "library": "var_list.r",
     "varRefreshCmd": "cat(var_dic_list()) "
    }
   },
   "types_to_exclude": [
    "module",
    "function",
    "builtin_function_or_method",
    "instance",
    "_Feature"
   ],
   "window_display": false
  },
  "vscode": {
   "interpreter": {
    "hash": "aee8b7b246df8f9039afb4144a1f6fd8d2ca17a180786b69acc140d282b71a49"
   }
  }
 },
 "nbformat": 4,
 "nbformat_minor": 5
}
