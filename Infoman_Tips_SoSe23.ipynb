{
 "cells": [
  {
   "attachments": {},
   "cell_type": "markdown",
   "id": "884d9a04",
   "metadata": {
    "slideshow": {
     "slide_type": "slide"
    }
   },
   "source": [
    "# Explorative Datenanalyse"
   ]
  },
  {
   "attachments": {},
   "cell_type": "markdown",
   "id": "904f4cef",
   "metadata": {
    "slideshow": {
     "slide_type": "fragment"
    }
   },
   "source": [
    "## Aufgabenstellung:\n",
    "\n",
    "Laden Sie das \"tips\" Dataset aus seaborn mithilfe der Funktionen von pandas. Hierfür können Sie sich an der vorherigen Aufgabe orientieren. Führen Sie eine explorative Datenanalyse durch, um einen Überblick über das \"tips\" Dataset zu erhalten. Verwenden Sie geeignete Funktionen und Visualisierungen, um die Daten zu untersuchen und zu verstehen."
   ]
  },
  {
   "attachments": {},
   "cell_type": "markdown",
   "id": "5ff70564",
   "metadata": {},
   "source": [
    "Das \"tips\" Dataset enthält Informationen zu Trinkgeldern in einem Restaurant. Es umfasst die folgenden Variablen:\n",
    "\n",
    "- *total_bill:* Gesamtbetrag der Rechnung (einschließlich Trinkgeld)\n",
    "- *tip:* Trinkgeldbetrag\n",
    "- *sex:* Geschlecht der Person, die die Rechnung beglichen hat (männlich oder weiblich)\n",
    "- *smoker:* Gibt an, ob die Person Raucher ist (ja oder nein)\n",
    "- *day:* Wochentag der Transaktion (Montag, Dienstag, Mittwoch, Donnerstag, Freitag, Samstag, Sonntag)\n",
    "- *time:* Zeitpunkt der Transaktion (Mittag oder Abendessen)\n",
    "- *size:* Anzahl der Personen in der Gruppe"
   ]
  },
  {
   "attachments": {},
   "cell_type": "markdown",
   "id": "c58b3070",
   "metadata": {
    "slideshow": {
     "slide_type": "slide"
    }
   },
   "source": [
    "### Aufgabe 1\n",
    "- Laden Sie den \"Tips\" Zeitreihendatensatz aus dem Paket \"datasets\" von Seaborn und finden Sie die Verteilung der Trinkgeldbeträge heraus. Hierfür könnten Sie bspw. die Funktion `histplot` nehmen: `sns.histplot(data=XXX, x=\"XXX\", bins=10)`. Bedenken Sie hierbei auch die Beschriftung des Graphen."
   ]
  },
  {
   "cell_type": "code",
   "execution_count": 1,
   "id": "8084aa1a",
   "metadata": {
    "slideshow": {
     "slide_type": "fragment"
    }
   },
   "outputs": [],
   "source": [
    "# Fügen Sie hier den Code ein und führen ihn mit SHIFT + ENTER aus\n"
   ]
  },
  {
   "attachments": {},
   "cell_type": "markdown",
   "id": "9d68c785",
   "metadata": {},
   "source": [
    "### Aufgabe 2\n",
    "- Stellen Sie die Beziehung zwischen dem Gesamtberag der Rechnung sowie dem Trinkgeldbetrag dar. Hier könnten Sie bspw. die Funktion `scatterplot` nehmen: `sns.scatterplot(data=XXX, x=\"XXX\", y=\"XXX\")`. Bedenken Sie hierbei auch die Beschriftung des Graphen."
   ]
  },
  {
   "cell_type": "code",
   "execution_count": null,
   "id": "5493daed",
   "metadata": {},
   "outputs": [],
   "source": [
    "# Fügen Sie hier den Code ein und führen ihn mit SHIFT + ENTER aus\n"
   ]
  },
  {
   "attachments": {},
   "cell_type": "markdown",
   "id": "17e8ee12",
   "metadata": {},
   "source": [
    "### Aufgabe 3\n",
    "- Stellen Sie die Verteilung der Trinkgelder nach Geschlecht dar. Hier könnten Sie bspw. die Funktion `boxplot` nehmen: `sns.boxplot(data=XXX, x=\"XXX\", y=\"XXX\")`. Bedenken Sie hierbei auch die Beschriftung des Graphen."
   ]
  },
  {
   "cell_type": "code",
   "execution_count": null,
   "id": "36c3846e",
   "metadata": {},
   "outputs": [],
   "source": [
    "# Fügen Sie hier den Code ein und führen ihn mit SHIFT + ENTER aus\n"
   ]
  },
  {
   "attachments": {},
   "cell_type": "markdown",
   "id": "c2effe9a",
   "metadata": {},
   "source": [
    "### Aufgabe 4\n",
    "- Stellen Sie die Verteilung der Trinkgelder nach Rauchern und Nicht-Rauchern dar. Bedenken Sie hierbei auch die Beschriftung des Graphen."
   ]
  },
  {
   "cell_type": "code",
   "execution_count": null,
   "id": "44d8ae7d",
   "metadata": {},
   "outputs": [],
   "source": [
    "# Fügen Sie hier den Code ein und führen ihn mit SHIFT + ENTER aus\n"
   ]
  },
  {
   "attachments": {},
   "cell_type": "markdown",
   "id": "dd795b50",
   "metadata": {},
   "source": [
    "### Aufgabe 5\n",
    "- Stellen Sie die Häufigkeit der Transaktionen an verschiedenen Wochentagen dar. Hier könnten Sie bspw. die Funktion `countplot` nehmen: `sns.countplot(data=XXX, x=\"XXX\", y=\"XXX\")`. Bedenken Sie hierbei auch die Beschriftung des Graphen."
   ]
  },
  {
   "cell_type": "code",
   "execution_count": null,
   "id": "770abdab",
   "metadata": {},
   "outputs": [],
   "source": [
    "# Fügen Sie hier den Code ein und führen ihn mit SHIFT + ENTER aus\n"
   ]
  },
  {
   "attachments": {},
   "cell_type": "markdown",
   "id": "b967039e",
   "metadata": {},
   "source": [
    "### Aufgabe 6\n",
    "- Ermitteln Sie die durchschnittliche Gruppengröße. Hierfür könnten Sie bspw. die Funktion `.mean()` auf einen der bestehenden Datensätze anwenden."
   ]
  },
  {
   "cell_type": "code",
   "execution_count": null,
   "id": "01d84251",
   "metadata": {},
   "outputs": [],
   "source": [
    "# Fügen Sie hier den Code ein und führen ihn mit SHIFT + ENTER aus\n"
   ]
  },
  {
   "attachments": {},
   "cell_type": "markdown",
   "id": "2b0db75c",
   "metadata": {},
   "source": []
  }
 ],
 "metadata": {
  "celltoolbar": "Slideshow",
  "kernelspec": {
   "display_name": "Python 3 (ipykernel)",
   "language": "python",
   "name": "python3"
  },
  "language_info": {
   "codemirror_mode": {
    "name": "ipython",
    "version": 3
   },
   "file_extension": ".py",
   "mimetype": "text/x-python",
   "name": "python",
   "nbconvert_exporter": "python",
   "pygments_lexer": "ipython3",
   "version": "3.10.3"
  }
 },
 "nbformat": 4,
 "nbformat_minor": 5
}
