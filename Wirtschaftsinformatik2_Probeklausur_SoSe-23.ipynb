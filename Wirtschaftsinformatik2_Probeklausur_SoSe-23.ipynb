{
 "cells": [
  {
   "attachments": {},
   "cell_type": "markdown",
   "metadata": {},
   "source": [
    "# Probeklausur: Wirtschaftsinformatik 2\n",
    "\n",
    "* Datum \n",
    "* Dauer 120 Minuten\n",
    "* Erlaubte Hilfsmittel: keine\n",
    "* Bitte tragen Sie in die folgende Zelle Ihren vollständigen Name und Ihre Matrikelnummer ein\n",
    "* Achten Sie darauf Variabeln, Funktionen etc. mit korrekter Schreibweise zu übernehmen.\n",
    "* Versuchen Sie Code abzugeben, der lauffähig ist!\n",
    "* Zum Bestehen sind 50% der Punkte erforderlich."
   ]
  },
  {
   "attachments": {},
   "cell_type": "markdown",
   "metadata": {},
   "source": [
    "##### Allgemeine Regeln zur Durchführung einer Prüfung (Bitte sorgfältig lesen):\n",
    "* Diese Prüfungsunterlagen sind inklusive der Aufgabentexte Eigentum der Fachhochschule Kiel und vollständig an die Prüfer/-innen zurückzugeben.\n",
    "* Eine Täuschung liegt insbesondere vor, wenn andere als zugelassene Hilfsmittel (dazu zählen auch Telekommunikationsmittel oder andere elektronische Geräte) mitgeführt, bereit gehalten oder benutzt werden. Bei einem Täuschungsversuch wird die entsprechende Modulprüfung (d.h., das gesamte Modul) als mit „nicht ausreichend“ (5,0) oder 0 % bewertet. In besonders schweren Fällen der Täuschung wird die Prüfung als „endgültig nicht bestanden“ (Folge: Exmatrikulation) bewertet. (Vgl. § 12 Abs. 3 PVO)\n",
    "* Es ist nicht zulässig Abschriften, Kopien und/oder Fotografien dieser Prüfungsaufgaben anzufertigen.\n",
    "\n",
    "Mit dem Eintragen Ihres Namens und Ihrer Matrikelnummer bestätigen Sie, dass Sie die aufgeführten Regeln zur Durchführung der Prüfung zur Kenntnis genommen haben. Ein Verstoß gegen diese Regeln kann zur Folge haben, dass die Prüfungsleistung mit „Nicht bestanden“ bewertet wird."
   ]
  },
  {
   "cell_type": "code",
   "execution_count": null,
   "metadata": {},
   "outputs": [],
   "source": [
    "# Name: \n",
    "# Matrikelnummer: "
   ]
  },
  {
   "attachments": {},
   "cell_type": "markdown",
   "metadata": {},
   "source": [
    "<hr>"
   ]
  },
  {
   "attachments": {},
   "cell_type": "markdown",
   "metadata": {},
   "source": [
    "### Imperative Programmierung (16 Punkte)"
   ]
  },
  {
   "attachments": {},
   "cell_type": "markdown",
   "metadata": {},
   "source": [
    "##### Aufgabe 1 (2 Punkte)\n",
    "Ergänzen Sie die nachstehenden if-Conditions so, dass \"I love Python\" zurückgegeben wird."
   ]
  },
  {
   "cell_type": "code",
   "execution_count": null,
   "metadata": {},
   "outputs": [],
   "source": [
    "def ilovepython():\n",
    "    if          :\n",
    "        if      :\n",
    "            return \"I love VBA.\"\n",
    "        else:\n",
    "            return \"I love C++\"\n",
    "    else:\n",
    "        return \"I love Python\""
   ]
  },
  {
   "attachments": {},
   "cell_type": "markdown",
   "metadata": {},
   "source": [
    "##### Aufgabe 2 (2 Punkte)\n",
    "Ergänzen Sie die nachstehenden Funktion so, dass mithilfe einer `modulo` Berechnung 1 zurückgegeben wird."
   ]
  },
  {
   "cell_type": "code",
   "execution_count": 138,
   "metadata": {},
   "outputs": [
    {
     "name": "stdout",
     "output_type": "stream",
     "text": [
      "4\n"
     ]
    }
   ],
   "source": [
    "def divideit():\n",
    "    a = 21\n",
    "    b = 5\n",
    "    # Ergänzen Sie nachfolgend Ihre Lösung\n",
    "    c = \n",
    "    return c\n",
    "print(divideit())"
   ]
  },
  {
   "attachments": {},
   "cell_type": "markdown",
   "metadata": {},
   "source": [
    "##### Aufgabe 3 (2 Punkte)\n",
    "Ergänzen Sie die nachstehenden Funktion so, dass mithilfe einer `for-Schleife` die Werte die Zahlen von 72 bis 80 in zweier Schritten ausgegeben werden."
   ]
  },
  {
   "cell_type": "code",
   "execution_count": 139,
   "metadata": {},
   "outputs": [],
   "source": [
    "def loop():\n",
    "    # Ergänzen Sie nachfolgend Ihre Lösung"
   ]
  },
  {
   "attachments": {},
   "cell_type": "markdown",
   "metadata": {},
   "source": [
    "##### Aufgabe 4 (2 Punkte)\n",
    "Ergänzen Sie die nachstehenden Funktion so, dass mithilfe von Multiplikation `BobBobJustus` auf der Konsole ausgegeben wird."
   ]
  },
  {
   "cell_type": "code",
   "execution_count": 140,
   "metadata": {},
   "outputs": [],
   "source": [
    "def multi():\n",
    "    a = \"Bob\"\n",
    "    b = \"Justus\"\n",
    "    # Ergänzen Sie hier Ihre Lösung"
   ]
  },
  {
   "attachments": {},
   "cell_type": "markdown",
   "metadata": {},
   "source": [
    "##### Aufgabe 5 (2 Punkte)\n",
    "Ergänzen Sie die nachstehenden Funktion so, dass die Länge der Liste auf der Konsole ausgegeben wird."
   ]
  },
  {
   "cell_type": "code",
   "execution_count": 141,
   "metadata": {},
   "outputs": [],
   "source": [
    "def listenlaenge():\n",
    "    liste = []\n",
    "    for i in range(5):\n",
    "        liste.append(i)\n",
    "    # Ergänzen Sie hier Ihre Lösung\n",
    "    \n",
    "    return"
   ]
  },
  {
   "attachments": {},
   "cell_type": "markdown",
   "metadata": {},
   "source": [
    "##### Aufgabe 6 (2 Punkte)\n",
    "Ergänzen Sie die nachstehenden Funktion so, dass mithilfe von Substrings `Hello Kenobi` auf der Konsole ausgegeben wird."
   ]
  },
  {
   "cell_type": "code",
   "execution_count": 142,
   "metadata": {},
   "outputs": [],
   "source": [
    "def htsdof():\n",
    "    kenobi = \"Hello there.\"\n",
    "    grevious = \"General Kenobi.\"\n",
    "    # Ergänzen Sie hier Ihre Lösung\n",
    "    \n"
   ]
  },
  {
   "attachments": {},
   "cell_type": "markdown",
   "metadata": {},
   "source": [
    "##### Aufgabe 7 (2 Punkte)\n",
    "Ergänzen Sie die nachstehende Funktion so, dass die WKN `APPL` zu der Liste `stonks` hinzufügt."
   ]
  },
  {
   "cell_type": "code",
   "execution_count": 143,
   "metadata": {},
   "outputs": [],
   "source": [
    "def fire():\n",
    "    stonks = [\"BBY\", \"GME\", \"RHM.DE\"]\n",
    "    # Ergänzen Sie hier Ihre Lösung\n",
    "\n",
    "    return stonks"
   ]
  },
  {
   "attachments": {},
   "cell_type": "markdown",
   "metadata": {},
   "source": [
    "##### Aufgabe 8 (2 Punkte)\n",
    "Ergänzen Sie die nachstehende Funktion mithilfe einer Schleife so, dass die Keys (Namen) des Dictionaries `telefonbuch` nacheinander ausgegeben werden."
   ]
  },
  {
   "cell_type": "code",
   "execution_count": 144,
   "metadata": {},
   "outputs": [],
   "source": [
    "def phonebook():\n",
    "    telefonbuch = {\"Christian\": 2105070,\n",
    "                   \"Jonas\": 2105071,\n",
    "                   \"Miriam\": 2105072}\n",
    "# Ergänzen Sie hier Ihre Lösung"
   ]
  },
  {
   "attachments": {},
   "cell_type": "markdown",
   "metadata": {},
   "source": [
    "<hr>\n",
    "\n",
    "### Prozedurale Programmierung & Funktionen (24 Punkte)"
   ]
  },
  {
   "attachments": {},
   "cell_type": "markdown",
   "metadata": {},
   "source": [
    "##### Aufgabe 9 (3 Punkte)\n",
    "Schreiben Sie eine Funktion mit dem Namen `calculate()`, welche die Parameter `erste_zahl` und `zweite_zahl` übergeben bekommt und das Produkt der übergebenen Werte berechnet und ausgibt. Eine Nutzereingabe ist hier nicht notwendig, schreiben Sie ausschließlich die Funktion."
   ]
  },
  {
   "cell_type": "code",
   "execution_count": 145,
   "metadata": {},
   "outputs": [],
   "source": [
    "# Ergänzen Sie hier Ihre Lösung zu Aufgabe 9"
   ]
  },
  {
   "attachments": {},
   "cell_type": "markdown",
   "metadata": {},
   "source": [
    "##### Aufgabe 10 (3 Punkte)\n",
    "Schreiben Sie eine Funktion mit dem Namen `stringtolist()`, welche den Parameter `satz` übergeben bekommt, diesen in eine Liste überführt und anschließend returned."
   ]
  },
  {
   "cell_type": "code",
   "execution_count": 146,
   "metadata": {},
   "outputs": [],
   "source": [
    "# Ergänzen Sie hier Ihre Lösung zu Aufgabe 10"
   ]
  },
  {
   "attachments": {},
   "cell_type": "markdown",
   "metadata": {},
   "source": [
    "##### Aufgabe 11 (3 Punkte)\n",
    "Schreiben Sie eine Funktion mit dem Namen `removelast()`, welche das zweite Element einer ihr übergebenen Liste entfernt. Die Liste kann als Parameter mit dem Namen `liste` geführt werden. Nutzen Sie hierfür die vorgegebene Funktion `randomlist`."
   ]
  },
  {
   "cell_type": "code",
   "execution_count": 147,
   "metadata": {},
   "outputs": [],
   "source": [
    "randomlist = [\"first\", \"second\", \"third\", \"fourth\"]\n",
    "# Ergänzen Sie hier Ihre Lösung zu Aufgabe 11"
   ]
  },
  {
   "attachments": {},
   "cell_type": "markdown",
   "metadata": {},
   "source": [
    "##### Aufgabe 12 (3 Punkte)\n",
    "Ergänzen Sie den nachfolgenden Code so, dass im Falle einer Fehleingabe durch den Nutzer – beispielsweise durch die Eingabe von Buchstaben – die Nachricht `\"Bitte geben Sie nur Zahlen ein.\"` ausgegeben wird. Dies soll solange geschehen, bis der Nutzer eine korrekte Eingabe tätigt. Eine Nutzereingabe ist hier nicht notwendig, schreiben Sie ausschließlich die Funktion."
   ]
  },
  {
   "cell_type": "code",
   "execution_count": 148,
   "metadata": {},
   "outputs": [],
   "source": [
    "def fehleingabe():\n",
    "    # Ergänzen Sie nachfolgend Ihre Lösung\n",
    "    alter = int(input(\"Bitte geben Sie Ihr Alter ein: \"))"
   ]
  },
  {
   "attachments": {},
   "cell_type": "markdown",
   "metadata": {},
   "source": [
    "##### Aufgabe 13 (3 Punkte)\n",
    "Schreiben Sie eine Funktion mit den Namen `whileloop()` innerhalb derer eine while-Schleife solange durchläuft, bis der User `exit` eingibt."
   ]
  },
  {
   "cell_type": "code",
   "execution_count": 149,
   "metadata": {},
   "outputs": [],
   "source": [
    "# Ergänzen Sie hier Ihre Lösung zu Aufgabe 13"
   ]
  },
  {
   "attachments": {},
   "cell_type": "markdown",
   "metadata": {},
   "source": [
    "##### Aufgabe 14 (3 Punkte)\n",
    "Schreiben Sie eine Funktion mit dem Namen `slice()` welche einen Parameter `satz` und einen Parameter `zeichen` übergeben bekommt. Die Funktion soll den Satz um die entsprechende Anzahl an Zeichen von hinten kürzen. Eine Nutzereingabe ist hier nicht notwendig, schreiben Sie ausschließlich die Funktion."
   ]
  },
  {
   "cell_type": "code",
   "execution_count": 150,
   "metadata": {},
   "outputs": [],
   "source": [
    "# Ergänzen Sie hier Ihre Lösung zu Aufgabe 14"
   ]
  },
  {
   "attachments": {},
   "cell_type": "markdown",
   "metadata": {},
   "source": [
    "##### Aufgabe 15 (3 Punkte)\n",
    "Ergänzen Sie den nachfolgenden Code so, dass der User einen beliebigen Artikel sowie eine Menge eingeben kann, die zu dem Dictionary `einkaufsliste` hinzugefügt wird. Eine Behandlung von Fehlern ist nicht notwendig. Gehen Sie davon aus, dass der User eine saubere Eingabe tätigt."
   ]
  },
  {
   "cell_type": "code",
   "execution_count": 151,
   "metadata": {},
   "outputs": [],
   "source": [
    "einkaufsliste = {\"Brot\": 5,\n",
    "                 \"Wasser\": 2}\n",
    "# Ergänzen Sie hier Ihre Lösung zu Aufgabe 15"
   ]
  },
  {
   "attachments": {},
   "cell_type": "markdown",
   "metadata": {},
   "source": [
    "##### Aufgabe 16 (3 Punkte)\n",
    "Schreibe Sie eine for-Schleife, welche alle Elemente aus der Liste `sonderzeichen` aus dem Satz `satz` entfernt."
   ]
  },
  {
   "cell_type": "code",
   "execution_count": 152,
   "metadata": {},
   "outputs": [],
   "source": [
    "sonderzeichen = [\".\", \",\", \":\", \"$\", \";\", \"/\", \"'\", \"*\", \"+\", \"-\", \"%\", \"?\", \"!\", \" \"]\n",
    "satz = \"Highly successful people have three things in common: motivation, ability, and opportunity.\"\n",
    "# Ergänzen Sie hier Ihre Lösung zu Aufgabe 16"
   ]
  },
  {
   "attachments": {},
   "cell_type": "markdown",
   "metadata": {},
   "source": [
    "<hr>\n",
    "\n",
    "### Programmentwicklung (10 Punkte)"
   ]
  },
  {
   "attachments": {},
   "cell_type": "markdown",
   "metadata": {},
   "source": [
    "Schreibe eine Python-Funktion namens `is_palindrome`, die prüft, ob ein gegebener Text ein Palindrom ist oder nicht. Ein Palindrom ist ein Text, der vorwärts und rückwärts gelesen identisch ist, nachdem Leerzeichen, Groß-/Kleinschreibung und Satzzeichen entfernt wurden. Zum Entfernen von Satzzeichen können Sie die von Ihnen in Aufgabe 16 entwickelte Funktion gerne recyclen/nutzen.\n",
    "\n",
    "Die Funktion soll einen Text als Eingabe akzeptieren und einen booleschen Wert zurückgeben: True, wenn der Text ein Palindrom ist, andernfalls False.\n",
    "\n",
    "Der Ablauf könnte wie folgt aussehen:\n",
    "\n",
    "```python\n",
    "is_palindrome(\"Hannah\")  # True\n",
    "is_palindrome(\"Eva, Can I Stab Bats In A Cave?\")  # True\n",
    "is_palindrome(\"Python\")  # False\n",
    "is_palindrome(\"Anna\")  # False\n",
    "```\n",
    "\n"
   ]
  },
  {
   "cell_type": "code",
   "execution_count": 153,
   "metadata": {},
   "outputs": [],
   "source": [
    "# Ergänzen Sie hier Ihre Lösung zu Aufgabe 17 (Programmentwicklung)"
   ]
  },
  {
   "attachments": {},
   "cell_type": "markdown",
   "metadata": {},
   "source": [
    "<hr>\n",
    "\n",
    "### Ende der Klausur"
   ]
  }
 ],
 "metadata": {
  "kernelspec": {
   "display_name": "Python 3",
   "language": "python",
   "name": "python3"
  },
  "language_info": {
   "codemirror_mode": {
    "name": "ipython",
    "version": 3
   },
   "file_extension": ".py",
   "mimetype": "text/x-python",
   "name": "python",
   "nbconvert_exporter": "python",
   "pygments_lexer": "ipython3",
   "version": "3.10.3"
  },
  "orig_nbformat": 4,
  "vscode": {
   "interpreter": {
    "hash": "aee8b7b246df8f9039afb4144a1f6fd8d2ca17a180786b69acc140d282b71a49"
   }
  }
 },
 "nbformat": 4,
 "nbformat_minor": 2
}
